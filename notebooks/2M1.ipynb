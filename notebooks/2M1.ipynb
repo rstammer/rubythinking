{
 "cells": [
  {
   "cell_type": "markdown",
   "metadata": {},
   "source": [
    "# Statistical Rethinking: Excercise 2M1"
   ]
  },
  {
   "cell_type": "markdown",
   "metadata": {},
   "source": [
    "Recall the globe tossing model from the chapter. Compute and plot the grid approximate posterior distribution for each of the following set of observations. In each case, assume a uniform prior for p.\n",
    "\n",
    "(1) W, W, W <br>\n",
    "(2) W, W, W, L <br>\n",
    "(3) L, W, W, L, W, W, W <br>\n",
    "\n",
    "<br>\n",
    "We want to estimate the probability of Water $p$ as parameter of the model. The parameter is at least 0 and at most 1."
   ]
  },
  {
   "cell_type": "code",
   "execution_count": null,
   "metadata": {},
   "outputs": [],
   "source": [
    "require 'vega'\n",
    "grid_size = 10\n",
    "step_size = 1.0 / grid_size.to_f\n",
    "grid = 0.step(by: step_size, to: 1).to_a"
   ]
  },
  {
   "cell_type": "code",
   "execution_count": 25,
   "metadata": {},
   "outputs": [
    {
     "data": {
      "text/html": [
       "<div id=\"chart-23d49e93b17d2e6a158801ef6b1dba81\" style=\"width: 100%; height: 300px;\"></div>\n",
       "<script>\n",
       "  require.config({\n",
       "    paths: {\n",
       "      'vega': 'https://cdn.jsdelivr.net/npm/vega@5.16.1?noext',\n",
       "      'vega-lite': 'https://cdn.jsdelivr.net/npm/vega-lite@4.16.2?noext',\n",
       "      'vega-embed': 'https://cdn.jsdelivr.net/npm/vega-embed@6.12.2?noext'\n",
       "    }\n",
       "  });\n",
       "  require(['vega', 'vega-lite', 'vega-embed'], function(vega, vegaLite, vegaEmbed) {\n",
       "    vegaEmbed(\"#chart-23d49e93b17d2e6a158801ef6b1dba81\", {\"$schema\":\"https://vega.github.io/schema/vega-lite/v4.json\",\"width\":\"container\",\"height\":\"container\",\"data\":{\"values\":[{\"x\":0.0,\"y\":1},{\"x\":0.1,\"y\":1},{\"x\":0.2,\"y\":1},{\"x\":0.30000000000000004,\"y\":1},{\"x\":0.4,\"y\":1},{\"x\":0.5,\"y\":1},{\"x\":0.6000000000000001,\"y\":1},{\"x\":0.7000000000000001,\"y\":1},{\"x\":0.8,\"y\":1},{\"x\":0.9,\"y\":1},{\"x\":1.0,\"y\":1}]},\"mark\":{\"type\":\"line\"},\"encoding\":{\"x\":{\"field\":\"x\",\"type\":\"quantitative\"},\"y\":{\"field\":\"y\",\"type\":\"quantitative\",\"scale\":{\"domain\":[0,2]}}}}, {\"actions\":false});\n",
       "  });\n",
       "</script>\n"
      ],
      "text/plain": [
       "#<Vega::LiteChart:0x00007fc1091a82a0 @schema=\"https://vega.github.io/schema/vega-lite/v4.json\", @spec={\"$schema\"=>\"https://vega.github.io/schema/vega-lite/v4.json\", \"width\"=>\"container\", \"height\"=>\"container\", \"data\"=>{:values=>[{:x=>0.0, :y=>1}, {:x=>0.1, :y=>1}, {:x=>0.2, :y=>1}, {:x=>0.30000000000000004, :y=>1}, {:x=>0.4, :y=>1}, {:x=>0.5, :y=>1}, {:x=>0.6000000000000001, :y=>1}, {:x=>0.7000000000000001, :y=>1}, {:x=>0.8, :y=>1}, {:x=>0.9, :y=>1}, {:x=>1.0, :y=>1}]}, \"mark\"=>{:type=>\"line\"}, \"encoding\"=>{:x=>{:field=>\"x\", :type=>\"quantitative\"}, :y=>{:field=>\"y\", :type=>\"quantitative\", :scale=>{:domain=>[0, 2]}}}}>"
      ]
     },
     "execution_count": 25,
     "metadata": {},
     "output_type": "execute_result"
    }
   ],
   "source": [
    "# Let's first define and plot a uniform prior.\n",
    "prior_data = grid.map do |x| \n",
    "  {x: x, y: 1}\n",
    "end\n",
    "\n",
    "prior = ->(x) do\n",
    "  prior.detect{ |point| point[:x] == x }\n",
    "end\n",
    "\n",
    "Vega.lite\n",
    "  .data(prior_data)\n",
    "  .mark(type: \"line\")\n",
    "  .encoding(\n",
    "    x: {field: \"x\", type: \"quantitative\"},\n",
    "    y: {field: \"y\", type: \"quantitative\", scale: {\"domain\": [0,2]}}\n",
    "  )"
   ]
  },
  {
   "cell_type": "code",
   "execution_count": 26,
   "metadata": {},
   "outputs": [
    {
     "data": {
      "text/plain": [
       "#<Proc:0x00007fc10417cb00@<main>:6 (lambda)>"
      ]
     },
     "execution_count": 26,
     "metadata": {},
     "output_type": "execute_result"
    }
   ],
   "source": [
    "factorial = ->(n) do\n",
    "  return 1 if n < 1\n",
    "  n.to_i.downto(1).inject(:*)\n",
    "end\n",
    "\n",
    "\n",
    "likelihood = ->(w, l, p) do\n",
    "  (factorial[w+l].to_f / (factorial[w] * factorial[l])).to_f * (p**w) * ((1-p)**l)\n",
    "end"
   ]
  },
  {
   "cell_type": "markdown",
   "metadata": {},
   "source": [
    "Now, let's compute the grid aprroximation of the posterior for each of the cases. The difference is only the data input we give in terms of \"count of Water\" versus \"count of Land\" of our tossing result given in the exercise."
   ]
  },
  {
   "cell_type": "code",
   "execution_count": 4,
   "metadata": {},
   "outputs": [
    {
     "data": {
      "text/html": [
       "<div id=\"iruby-chartkick-linechart-80036\" style=\"height: 300px; width: 100%; text-align: center; color: #999; line-height: 300px; font-size: 14px; font-family: 'Lucida Grande', 'Lucida Sans Unicode', Verdana, Arial, Helvetica, sans-serif;\">Loading...</div><script type=\"text/javascript\">\n",
       "  new Chartkick[\"LineChart\"](\"iruby-chartkick-linechart-80036\", [[0.0,0.0],[0.1,0.00033057851239669424],[0.2,0.002644628099173554],[0.30000000000000004,0.008925619834710748],[0.4,0.02115702479338843],[0.5,0.04132231404958677],[0.6000000000000001,0.07140495867768598],[0.7000000000000001,0.11338842975206613],[0.8,0.16925619834710745],[0.9,0.24099173553719008],[1.0,0.33057851239669417]], {});\n",
       "</script>\n"
      ],
      "text/plain": [
       "\"<div id=\\\"iruby-chartkick-linechart-80036\\\" style=\\\"height: 300px; width: 100%; text-align: center; color: #999; line-height: 300px; font-size: 14px; font-family: 'Lucida Grande', 'Lucida Sans Unicode', Verdana, Arial, Helvetica, sans-serif;\\\">Loading...</div><script type=\\\"text/javascript\\\">\\n  new Chartkick[\\\"LineChart\\\"](\\\"iruby-chartkick-linechart-80036\\\", [[0.0,0.0],[0.1,0.00033057851239669424],[0.2,0.002644628099173554],[0.30000000000000004,0.008925619834710748],[0.4,0.02115702479338843],[0.5,0.04132231404958677],[0.6000000000000001,0.07140495867768598],[0.7000000000000001,0.11338842975206613],[0.8,0.16925619834710745],[0.9,0.24099173553719008],[1.0,0.33057851239669417]], {});\\n</script>\\n\""
      ]
     },
     "execution_count": 4,
     "metadata": {},
     "output_type": "execute_result"
    }
   ],
   "source": [
    "# For case (1)\n",
    "w = 3\n",
    "l = 0\n",
    "\n",
    "\n",
    "u_posterior_data = grid.map do |x, u_posterior|\n",
    "  {x: x, y: prior[x] * likelihood[w, l, x] \n",
    "end\n",
    "\n",
    "posterior = u_posterior.each_with_object({}) do |(x,y), posterior| \n",
    "  posterior[x] = y.to_f / u_posterior.values.sum.to_f\n",
    "end\n",
    "\n",
    "line_chart(posterior)"
   ]
  },
  {
   "cell_type": "code",
   "execution_count": 5,
   "metadata": {},
   "outputs": [
    {
     "data": {
      "text/html": [
       "<div id=\"iruby-chartkick-linechart-58277\" style=\"height: 300px; width: 100%; text-align: center; color: #999; line-height: 300px; font-size: 14px; font-family: 'Lucida Grande', 'Lucida Sans Unicode', Verdana, Arial, Helvetica, sans-serif;\">Loading...</div><script type=\"text/javascript\">\n",
       "  new Chartkick[\"LineChart\"](\"iruby-chartkick-linechart-58277\", [[0.0,0.0],[0.1,0.0018303843807199514],[0.2,0.01301606670734188],[0.30000000000000004,0.038438071995118984],[0.4,0.07809640024405126],[0.5,0.1271100264388855],[0.6000000000000001,0.17571690054911535],[0.7000000000000001,0.2092739475289811],[0.8,0.20825706731747],[0.9,0.14826113483831602],[1.0,0.0]], {});\n",
       "</script>\n"
      ],
      "text/plain": [
       "\"<div id=\\\"iruby-chartkick-linechart-58277\\\" style=\\\"height: 300px; width: 100%; text-align: center; color: #999; line-height: 300px; font-size: 14px; font-family: 'Lucida Grande', 'Lucida Sans Unicode', Verdana, Arial, Helvetica, sans-serif;\\\">Loading...</div><script type=\\\"text/javascript\\\">\\n  new Chartkick[\\\"LineChart\\\"](\\\"iruby-chartkick-linechart-58277\\\", [[0.0,0.0],[0.1,0.0018303843807199514],[0.2,0.01301606670734188],[0.30000000000000004,0.038438071995118984],[0.4,0.07809640024405126],[0.5,0.1271100264388855],[0.6000000000000001,0.17571690054911535],[0.7000000000000001,0.2092739475289811],[0.8,0.20825706731747],[0.9,0.14826113483831602],[1.0,0.0]], {});\\n</script>\\n\""
      ]
     },
     "execution_count": 5,
     "metadata": {},
     "output_type": "execute_result"
    }
   ],
   "source": [
    "# For case (2)\n",
    "w = 3\n",
    "l = 1\n",
    "\n",
    "\n",
    "u_posterior = grid.each_with_object({}) do |x, u_posterior| \n",
    "  u_posterior[x] = prior[x] * likelihood[w, l, x] \n",
    "end\n",
    "\n",
    "posterior = u_posterior.each_with_object({}) do |(x,y), posterior| \n",
    "  posterior[x] = y.to_f / u_posterior.values.sum.to_f\n",
    "end\n",
    "\n",
    "IRuby.html(line_chart(posterior))"
   ]
  },
  {
   "cell_type": "code",
   "execution_count": 6,
   "metadata": {},
   "outputs": [
    {
     "data": {
      "text/html": [
       "<div id=\"iruby-chartkick-linechart-73051\" style=\"height: 300px; width: 100%; text-align: center; color: #999; line-height: 300px; font-size: 14px; font-family: 'Lucida Grande', 'Lucida Sans Unicode', Verdana, Arial, Helvetica, sans-serif;\">Loading...</div><script type=\"text/javascript\">\n",
       "  new Chartkick[\"LineChart\"](\"iruby-chartkick-linechart-73051\", [[0.0,0.0],[0.1,0.000136174505106544],[0.2,0.00344302946244694],[0.30000000000000004,0.02001765225066197],[0.4,0.06197453032404491],[0.5,0.13134115075862648],[0.6000000000000001,0.20916403984365153],[0.7000000000000001,0.2542983230361871],[0.8,0.220353885596604],[0.9,0.0992712142226705],[1.0,0.0]], {});\n",
       "</script>\n"
      ],
      "text/plain": [
       "\"<div id=\\\"iruby-chartkick-linechart-73051\\\" style=\\\"height: 300px; width: 100%; text-align: center; color: #999; line-height: 300px; font-size: 14px; font-family: 'Lucida Grande', 'Lucida Sans Unicode', Verdana, Arial, Helvetica, sans-serif;\\\">Loading...</div><script type=\\\"text/javascript\\\">\\n  new Chartkick[\\\"LineChart\\\"](\\\"iruby-chartkick-linechart-73051\\\", [[0.0,0.0],[0.1,0.000136174505106544],[0.2,0.00344302946244694],[0.30000000000000004,0.02001765225066197],[0.4,0.06197453032404491],[0.5,0.13134115075862648],[0.6000000000000001,0.20916403984365153],[0.7000000000000001,0.2542983230361871],[0.8,0.220353885596604],[0.9,0.0992712142226705],[1.0,0.0]], {});\\n</script>\\n\""
      ]
     },
     "execution_count": 6,
     "metadata": {},
     "output_type": "execute_result"
    }
   ],
   "source": [
    "# For case (3)\n",
    "w = 5\n",
    "l = 2\n",
    "\n",
    "\n",
    "u_posterior = grid.each_with_object({}) do |x, u_posterior| \n",
    "  u_posterior[x] = prior[x] * likelihood[w, l, x] \n",
    "end\n",
    "\n",
    "posterior = u_posterior.each_with_object({}) do |(x,y), posterior| \n",
    "  posterior[x] = y.to_f / u_posterior.values.sum.to_f\n",
    "end\n",
    "\n",
    "IRuby.html(line_chart(posterior))"
   ]
  },
  {
   "cell_type": "code",
   "execution_count": null,
   "metadata": {},
   "outputs": [],
   "source": []
  }
 ],
 "metadata": {
  "kernelspec": {
   "display_name": "Ruby 2.6.6",
   "language": "ruby",
   "name": "ruby"
  },
  "language_info": {
   "file_extension": ".rb",
   "mimetype": "application/x-ruby",
   "name": "ruby",
   "version": "2.6.6"
  }
 },
 "nbformat": 4,
 "nbformat_minor": 4
}
