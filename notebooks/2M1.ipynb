{
 "cells": [
  {
   "cell_type": "markdown",
   "metadata": {},
   "source": [
    "# Statistical Rethinking: Excercise 2M1"
   ]
  },
  {
   "cell_type": "markdown",
   "metadata": {},
   "source": [
    "Recall the globe tossing model from the chapter. Compute and plot the grid approximate posterior distribution for each of the following set of observations. In each case, assume a uniform prior for p.\n",
    "\n",
    "(1) W, W, W <br>\n",
    "(2) W, W, W, L <br>\n",
    "(3) L, W, W, L, W, W, W <br>\n",
    "\n",
    "<br>\n",
    "We want to estimate the probability of Water $p$ as parameter of the model. The parameter is at least 0 and at most 1."
   ]
  },
  {
   "cell_type": "code",
   "execution_count": 3,
   "metadata": {},
   "outputs": [
    {
     "data": {
      "text/plain": [
       "false"
      ]
     },
     "execution_count": 3,
     "metadata": {},
     "output_type": "execute_result"
    }
   ],
   "source": [
    "require \"rubythinking\"\n"
   ]
  },
  {
   "cell_type": "code",
   "execution_count": 4,
   "metadata": {},
   "outputs": [
    {
     "data": {
      "text/plain": [
       "[0.0, 0.1, 0.2, 0.30000000000000004, 0.4, 0.5, 0.6000000000000001, 0.7000000000000001, 0.8, 0.9, 1.0]"
      ]
     },
     "execution_count": 4,
     "metadata": {},
     "output_type": "execute_result"
    }
   ],
   "source": [
    "grid_size = 10\n",
    "step_size = 1.0 / grid_size.to_f\n",
    "grid = 0.step(by: step_size, to: 1).to_a"
   ]
  },
  {
   "cell_type": "code",
   "execution_count": 5,
   "metadata": {},
   "outputs": [
    {
     "data": {
      "text/html": [
       "<div id=\"chart-55401ad36841f98097f676831c681957\" style=\"width: 100%; height: 300px;\"></div>\n",
       "<script>\n",
       "  require.config({\n",
       "    paths: {\n",
       "      'vega': 'https://cdn.jsdelivr.net/npm/vega@5.16.1?noext',\n",
       "      'vega-lite': 'https://cdn.jsdelivr.net/npm/vega-lite@4.16.2?noext',\n",
       "      'vega-embed': 'https://cdn.jsdelivr.net/npm/vega-embed@6.12.2?noext'\n",
       "    }\n",
       "  });\n",
       "  require(['vega', 'vega-lite', 'vega-embed'], function(vega, vegaLite, vegaEmbed) {\n",
       "    vegaEmbed(\"#chart-55401ad36841f98097f676831c681957\", {\"$schema\":\"https://vega.github.io/schema/vega-lite/v4.json\",\"width\":\"container\",\"height\":\"container\",\"data\":{\"values\":[{\"x\":0.0,\"y\":1},{\"x\":0.1,\"y\":1},{\"x\":0.2,\"y\":1},{\"x\":0.30000000000000004,\"y\":1},{\"x\":0.4,\"y\":1},{\"x\":0.5,\"y\":1},{\"x\":0.6000000000000001,\"y\":1},{\"x\":0.7000000000000001,\"y\":1},{\"x\":0.8,\"y\":1},{\"x\":0.9,\"y\":1},{\"x\":1.0,\"y\":1}]},\"mark\":{\"type\":\"line\"},\"encoding\":{\"x\":{\"field\":\"x\",\"type\":\"quantitative\"},\"y\":{\"field\":\"y\",\"type\":\"quantitative\",\"scale\":{\"domain\":[0,2]}}}}, {\"actions\":false});\n",
       "  });\n",
       "</script>\n"
      ],
      "text/plain": [
       "#<Vega::LiteChart:0x00007fce3d0d5648 @schema=\"https://vega.github.io/schema/vega-lite/v4.json\", @spec={\"$schema\"=>\"https://vega.github.io/schema/vega-lite/v4.json\", \"width\"=>\"container\", \"height\"=>\"container\", \"data\"=>{:values=>[{:x=>0.0, :y=>1}, {:x=>0.1, :y=>1}, {:x=>0.2, :y=>1}, {:x=>0.30000000000000004, :y=>1}, {:x=>0.4, :y=>1}, {:x=>0.5, :y=>1}, {:x=>0.6000000000000001, :y=>1}, {:x=>0.7000000000000001, :y=>1}, {:x=>0.8, :y=>1}, {:x=>0.9, :y=>1}, {:x=>1.0, :y=>1}]}, \"mark\"=>{:type=>\"line\"}, \"encoding\"=>{:x=>{:field=>\"x\", :type=>\"quantitative\"}, :y=>{:field=>\"y\", :type=>\"quantitative\", :scale=>{:domain=>[0, 2]}}}}>"
      ]
     },
     "execution_count": 5,
     "metadata": {},
     "output_type": "execute_result"
    }
   ],
   "source": [
    "# Let's first define and plot a uniform prior.\n",
    "prior_data = grid.map do |x| \n",
    "  {x: x, y: 1}\n",
    "end\n",
    "\n",
    "prior = ->(x) do\n",
    "  prior_data.detect{ |point| point[:x] == x }[:y]\n",
    "end\n",
    "\n",
    "Vega.lite\n",
    "  .data(prior_data)\n",
    "  .mark(type: \"line\")\n",
    "  .encoding(\n",
    "    x: {field: \"x\", type: \"quantitative\"},\n",
    "    y: {field: \"y\", type: \"quantitative\", scale: {\"domain\": [0,2]}}\n",
    "  )"
   ]
  },
  {
   "cell_type": "code",
   "execution_count": 6,
   "metadata": {},
   "outputs": [
    {
     "data": {
      "text/plain": [
       "[{:x=>0.0, :y=>1}, {:x=>0.1, :y=>1}, {:x=>0.2, :y=>1}, {:x=>0.30000000000000004, :y=>1}, {:x=>0.4, :y=>1}, {:x=>0.5, :y=>1}, {:x=>0.6000000000000001, :y=>1}, {:x=>0.7000000000000001, :y=>1}, {:x=>0.8, :y=>1}, {:x=>0.9, :y=>1}, {:x=>1.0, :y=>1}]"
      ]
     },
     "execution_count": 6,
     "metadata": {},
     "output_type": "execute_result"
    }
   ],
   "source": [
    "prior_data"
   ]
  },
  {
   "cell_type": "code",
   "execution_count": 7,
   "metadata": {},
   "outputs": [
    {
     "data": {
      "text/plain": [
       "#<Proc:0x00007fce3d112660@<main>:6 (lambda)>"
      ]
     },
     "execution_count": 7,
     "metadata": {},
     "output_type": "execute_result"
    }
   ],
   "source": [
    "factorial = ->(n) do\n",
    "  return 1 if n < 1\n",
    "  n.to_i.downto(1).inject(:*)\n",
    "end\n",
    "\n",
    "\n",
    "likelihood = ->(w, l, p) do\n",
    "  (factorial[w+l].to_f / (factorial[w] * factorial[l])).to_f * (p**w) * ((1-p)**l)\n",
    "end"
   ]
  },
  {
   "cell_type": "markdown",
   "metadata": {},
   "source": [
    "Now, let's compute the grid aprroximation of the posterior for each of the cases. The difference is only the data input we give in terms of \"count of Water\" versus \"count of Land\" of our tossing result given in the exercise."
   ]
  },
  {
   "cell_type": "code",
   "execution_count": 8,
   "metadata": {},
   "outputs": [
    {
     "data": {
      "text/html": [
       "<div id=\"chart-f3ed46cb008649bd4ff1ab5fde641ffa\" style=\"width: 100%; height: 300px;\"></div>\n",
       "<script>\n",
       "  require.config({\n",
       "    paths: {\n",
       "      'vega': 'https://cdn.jsdelivr.net/npm/vega@5.16.1?noext',\n",
       "      'vega-lite': 'https://cdn.jsdelivr.net/npm/vega-lite@4.16.2?noext',\n",
       "      'vega-embed': 'https://cdn.jsdelivr.net/npm/vega-embed@6.12.2?noext'\n",
       "    }\n",
       "  });\n",
       "  require(['vega', 'vega-lite', 'vega-embed'], function(vega, vegaLite, vegaEmbed) {\n",
       "    vegaEmbed(\"#chart-f3ed46cb008649bd4ff1ab5fde641ffa\", {\"$schema\":\"https://vega.github.io/schema/vega-lite/v4.json\",\"width\":\"container\",\"height\":\"container\",\"data\":{\"values\":[{\"x\":0.0,\"y\":0.0},{\"x\":0.1,\"y\":0.00033057851239669424},{\"x\":0.2,\"y\":0.002644628099173554},{\"x\":0.30000000000000004,\"y\":0.008925619834710748},{\"x\":0.4,\"y\":0.02115702479338843},{\"x\":0.5,\"y\":0.04132231404958677},{\"x\":0.6000000000000001,\"y\":0.07140495867768598},{\"x\":0.7000000000000001,\"y\":0.11338842975206613},{\"x\":0.8,\"y\":0.16925619834710745},{\"x\":0.9,\"y\":0.24099173553719008},{\"x\":1.0,\"y\":0.33057851239669417}]},\"mark\":{\"type\":\"line\"},\"encoding\":{\"x\":{\"field\":\"x\",\"type\":\"quantitative\",\"scale\":{\"domain\":[0,1]}},\"y\":{\"field\":\"y\",\"type\":\"quantitative\",\"scale\":{\"domain\":[0,0.5]}}}}, {\"actions\":false});\n",
       "  });\n",
       "</script>\n"
      ],
      "text/plain": [
       "#<Vega::LiteChart:0x00007fce3810be00 @schema=\"https://vega.github.io/schema/vega-lite/v4.json\", @spec={\"$schema\"=>\"https://vega.github.io/schema/vega-lite/v4.json\", \"width\"=>\"container\", \"height\"=>\"container\", \"data\"=>{:values=>[{:x=>0.0, :y=>0.0}, {:x=>0.1, :y=>0.00033057851239669424}, {:x=>0.2, :y=>0.002644628099173554}, {:x=>0.30000000000000004, :y=>0.008925619834710748}, {:x=>0.4, :y=>0.02115702479338843}, {:x=>0.5, :y=>0.04132231404958677}, {:x=>0.6000000000000001, :y=>0.07140495867768598}, {:x=>0.7000000000000001, :y=>0.11338842975206613}, {:x=>0.8, :y=>0.16925619834710745}, {:x=>0.9, :y=>0.24099173553719008}, {:x=>1.0, :y=>0.33057851239669417}]}, \"mark\"=>{:type=>\"line\"}, \"encoding\"=>{:x=>{:field=>\"x\", :type=>\"quantitative\", :scale=>{:domain=>[0, 1]}}, :y=>{:field=>\"y\", :type=>\"quantitative\", :scale=>{:domain=>[0, 0.5]}}}}>"
      ]
     },
     "execution_count": 8,
     "metadata": {},
     "output_type": "execute_result"
    }
   ],
   "source": [
    "# For case (1)\n",
    "w = 3\n",
    "l = 0\n",
    "\n",
    "u_posterior = grid.map do |x, u_posterior|\n",
    "  {x: x, y: prior[x] * likelihood[w, l, x]}\n",
    "end\n",
    "\n",
    "posterior = u_posterior.map do |item| \n",
    "  standardized = (item[:y].to_f / u_posterior.map{ |p| p[:y] }.sum.to_f)\n",
    "  {x: item[:x], y: standardized}\n",
    "end\n",
    "\n",
    "Vega.lite\n",
    "  .data(posterior)\n",
    "  .mark(type: \"line\")\n",
    "  .encoding(\n",
    "    x: {field: \"x\", type: \"quantitative\", scale: {\"domain\": [0,1]}},\n",
    "    y: {field: \"y\", type: \"quantitative\", scale: {\"domain\": [0,0.5]}}\n",
    "  )"
   ]
  },
  {
   "cell_type": "code",
   "execution_count": 9,
   "metadata": {},
   "outputs": [
    {
     "data": {
      "text/html": [
       "<div id=\"chart-552cfc1ae10ce3dfe4b733a5e768bc32\" style=\"width: 100%; height: 300px;\"></div>\n",
       "<script>\n",
       "  require.config({\n",
       "    paths: {\n",
       "      'vega': 'https://cdn.jsdelivr.net/npm/vega@5.16.1?noext',\n",
       "      'vega-lite': 'https://cdn.jsdelivr.net/npm/vega-lite@4.16.2?noext',\n",
       "      'vega-embed': 'https://cdn.jsdelivr.net/npm/vega-embed@6.12.2?noext'\n",
       "    }\n",
       "  });\n",
       "  require(['vega', 'vega-lite', 'vega-embed'], function(vega, vegaLite, vegaEmbed) {\n",
       "    vegaEmbed(\"#chart-552cfc1ae10ce3dfe4b733a5e768bc32\", {\"$schema\":\"https://vega.github.io/schema/vega-lite/v4.json\",\"width\":\"container\",\"height\":\"container\",\"data\":{\"values\":[{\"x\":0.0,\"y\":0.0},{\"x\":0.1,\"y\":0.0018303843807199514},{\"x\":0.2,\"y\":0.01301606670734188},{\"x\":0.30000000000000004,\"y\":0.038438071995118984},{\"x\":0.4,\"y\":0.07809640024405126},{\"x\":0.5,\"y\":0.1271100264388855},{\"x\":0.6000000000000001,\"y\":0.17571690054911535},{\"x\":0.7000000000000001,\"y\":0.2092739475289811},{\"x\":0.8,\"y\":0.20825706731747},{\"x\":0.9,\"y\":0.14826113483831602},{\"x\":1.0,\"y\":0.0}]},\"mark\":{\"type\":\"line\"},\"encoding\":{\"x\":{\"field\":\"x\",\"type\":\"quantitative\",\"scale\":{\"domain\":[0,1]}},\"y\":{\"field\":\"y\",\"type\":\"quantitative\",\"scale\":{\"domain\":[0,0.5]}}}}, {\"actions\":false});\n",
       "  });\n",
       "</script>\n"
      ],
      "text/plain": [
       "#<Vega::LiteChart:0x00007fce38129e50 @schema=\"https://vega.github.io/schema/vega-lite/v4.json\", @spec={\"$schema\"=>\"https://vega.github.io/schema/vega-lite/v4.json\", \"width\"=>\"container\", \"height\"=>\"container\", \"data\"=>{:values=>[{:x=>0.0, :y=>0.0}, {:x=>0.1, :y=>0.0018303843807199514}, {:x=>0.2, :y=>0.01301606670734188}, {:x=>0.30000000000000004, :y=>0.038438071995118984}, {:x=>0.4, :y=>0.07809640024405126}, {:x=>0.5, :y=>0.1271100264388855}, {:x=>0.6000000000000001, :y=>0.17571690054911535}, {:x=>0.7000000000000001, :y=>0.2092739475289811}, {:x=>0.8, :y=>0.20825706731747}, {:x=>0.9, :y=>0.14826113483831602}, {:x=>1.0, :y=>0.0}]}, \"mark\"=>{:type=>\"line\"}, \"encoding\"=>{:x=>{:field=>\"x\", :type=>\"quantitative\", :scale=>{:domain=>[0, 1]}}, :y=>{:field=>\"y\", :type=>\"quantitative\", :scale=>{:domain=>[0, 0.5]}}}}>"
      ]
     },
     "execution_count": 9,
     "metadata": {},
     "output_type": "execute_result"
    }
   ],
   "source": [
    "# For case (2)\n",
    "w = 3\n",
    "l = 1\n",
    "\n",
    "u_posterior = grid.map do |x, u_posterior|\n",
    "  {x: x, y: prior[x] * likelihood[w, l, x]}\n",
    "end\n",
    "\n",
    "posterior = u_posterior.map do |item| \n",
    "  standardized = (item[:y].to_f / u_posterior.map{ |p| p[:y] }.sum.to_f)\n",
    "  {x: item[:x], y: standardized}\n",
    "end\n",
    "\n",
    "Vega.lite\n",
    "  .data(posterior)\n",
    "  .mark(type: \"line\")\n",
    "  .encoding(\n",
    "    x: {field: \"x\", type: \"quantitative\", scale: {\"domain\": [0,1]}},\n",
    "    y: {field: \"y\", type: \"quantitative\", scale: {\"domain\": [0,0.5]}}\n",
    "  )"
   ]
  },
  {
   "cell_type": "code",
   "execution_count": 38,
   "metadata": {},
   "outputs": [
    {
     "data": {
      "text/html": [
       "<div id=\"chart-b2b01a03458446d351cafe42e6f086a5\" style=\"width: 100%; height: 300px;\"></div>\n",
       "<script>\n",
       "  require.config({\n",
       "    paths: {\n",
       "      'vega': 'https://cdn.jsdelivr.net/npm/vega@5.16.1?noext',\n",
       "      'vega-lite': 'https://cdn.jsdelivr.net/npm/vega-lite@4.16.2?noext',\n",
       "      'vega-embed': 'https://cdn.jsdelivr.net/npm/vega-embed@6.12.2?noext'\n",
       "    }\n",
       "  });\n",
       "  require(['vega', 'vega-lite', 'vega-embed'], function(vega, vegaLite, vegaEmbed) {\n",
       "    vegaEmbed(\"#chart-b2b01a03458446d351cafe42e6f086a5\", {\"$schema\":\"https://vega.github.io/schema/vega-lite/v4.json\",\"width\":\"container\",\"height\":\"container\",\"data\":{\"values\":[{\"x\":0.0,\"y\":0.0},{\"x\":0.1,\"y\":0.000136174505106544},{\"x\":0.2,\"y\":0.00344302946244694},{\"x\":0.30000000000000004,\"y\":0.02001765225066197},{\"x\":0.4,\"y\":0.06197453032404491},{\"x\":0.5,\"y\":0.13134115075862648},{\"x\":0.6000000000000001,\"y\":0.20916403984365153},{\"x\":0.7000000000000001,\"y\":0.2542983230361871},{\"x\":0.8,\"y\":0.220353885596604},{\"x\":0.9,\"y\":0.0992712142226705},{\"x\":1.0,\"y\":0.0}]},\"mark\":{\"type\":\"line\"},\"encoding\":{\"x\":{\"field\":\"x\",\"type\":\"quantitative\",\"scale\":{\"domain\":[0,1]}},\"y\":{\"field\":\"y\",\"type\":\"quantitative\",\"scale\":{\"domain\":[0,0.5]}}}}, {\"actions\":false});\n",
       "  });\n",
       "</script>\n"
      ],
      "text/plain": [
       "#<Vega::LiteChart:0x00007fc90506be88 @schema=\"https://vega.github.io/schema/vega-lite/v4.json\", @spec={\"$schema\"=>\"https://vega.github.io/schema/vega-lite/v4.json\", \"width\"=>\"container\", \"height\"=>\"container\", \"data\"=>{:values=>[{:x=>0.0, :y=>0.0}, {:x=>0.1, :y=>0.000136174505106544}, {:x=>0.2, :y=>0.00344302946244694}, {:x=>0.30000000000000004, :y=>0.02001765225066197}, {:x=>0.4, :y=>0.06197453032404491}, {:x=>0.5, :y=>0.13134115075862648}, {:x=>0.6000000000000001, :y=>0.20916403984365153}, {:x=>0.7000000000000001, :y=>0.2542983230361871}, {:x=>0.8, :y=>0.220353885596604}, {:x=>0.9, :y=>0.0992712142226705}, {:x=>1.0, :y=>0.0}]}, \"mark\"=>{:type=>\"line\"}, \"encoding\"=>{:x=>{:field=>\"x\", :type=>\"quantitative\", :scale=>{:domain=>[0, 1]}}, :y=>{:field=>\"y\", :type=>\"quantitative\", :scale=>{:domain=>[0, 0.5]}}}}>"
      ]
     },
     "execution_count": 38,
     "metadata": {},
     "output_type": "execute_result"
    }
   ],
   "source": [
    "# For case (3)\n",
    "w = 5\n",
    "l = 2\n",
    "\n",
    "\n",
    "u_posterior = grid.map do |x, u_posterior|\n",
    "  {x: x, y: prior[x] * likelihood[w, l, x]}\n",
    "end\n",
    "\n",
    "posterior = u_posterior.map do |item| \n",
    "  standardized = (item[:y].to_f / u_posterior.map{ |p| p[:y] }.sum.to_f)\n",
    "  {x: item[:x], y: standardized}\n",
    "end\n",
    "\n",
    "Vega.lite\n",
    "  .data(posterior)\n",
    "  .mark(type: \"line\")\n",
    "  .encoding(\n",
    "    x: {field: \"x\", type: \"quantitative\", scale: {\"domain\": [0,1]}},\n",
    "    y: {field: \"y\", type: \"quantitative\", scale: {\"domain\": [0,0.5]}}\n",
    "  )"
   ]
  },
  {
   "cell_type": "code",
   "execution_count": null,
   "metadata": {},
   "outputs": [],
   "source": []
  }
 ],
 "metadata": {
  "kernelspec": {
   "display_name": "Ruby 2.6.6",
   "language": "ruby",
   "name": "ruby"
  },
  "language_info": {
   "file_extension": ".rb",
   "mimetype": "application/x-ruby",
   "name": "ruby",
   "version": "2.6.6"
  }
 },
 "nbformat": 4,
 "nbformat_minor": 4
}
