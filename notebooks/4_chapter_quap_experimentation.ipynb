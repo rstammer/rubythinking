{
 "cells": [
  {
   "cell_type": "code",
   "execution_count": 1,
   "id": "05c993ef",
   "metadata": {},
   "outputs": [
    {
     "data": {
      "text/plain": [
       "true"
      ]
     },
     "execution_count": 1,
     "metadata": {},
     "output_type": "execute_result"
    }
   ],
   "source": [
    "require \"rubythinking\""
   ]
  },
  {
   "cell_type": "code",
   "execution_count": 2,
   "id": "a423c002",
   "metadata": {},
   "outputs": [
    {
     "data": {
      "text/plain": [
       "#<Rubythinking::Quap:0x000000011ca56140 @formulas=[\"weight ~ normal(mu, 1)\", \"mu ~ a + b * height\", \"a ~ normal(0, 50)\", \"b ~ normal(0, 10)\"], @data={:height=>[150, 160, 170, 180, 190], :weight=>[50, 60, 70, 80, 90]}, @start=nil, @estimated=false, @coef=nil, @vcov=nil>"
      ]
     },
     "execution_count": 2,
     "metadata": {},
     "output_type": "execute_result"
    }
   ],
   "source": [
    "data = {\n",
    "  height: [150, 160, 170, 180, 190],\n",
    "  weight: [50, 60, 70, 80, 90]\n",
    "}\n",
    "\n",
    "formulas = [\n",
    "  'weight ~ normal(mu, 1)',\n",
    "  'mu ~ a + b * height',\n",
    "  'a ~ normal(0, 50)',\n",
    "  'b ~ normal(0, 10)'\n",
    "]\n",
    "\n",
    "quap = Rubythinking::Quap.new(formulas: formulas, data: data)\n",
    "puts quap.estimate.summary"
   ]
  },
  {
   "cell_type": "code",
   "execution_count": 3,
   "id": "1a7dc321",
   "metadata": {},
   "outputs": [
    {
     "name": "stdout",
     "output_type": "stream",
     "text": [
      "Quadratic approximation\n",
      "\n",
      "Parameter estimates:\n",
      "  a: -99.99953033871222 (SE: 5.394408461413774)\n",
      "  b: 0.9999954276832712 (SE: 0.0316225837441498)\n"
     ]
    }
   ],
   "source": [
    "puts quap.estimate.summary"
   ]
  },
  {
   "cell_type": "code",
   "execution_count": 5,
   "id": "53d6e457",
   "metadata": {},
   "outputs": [
    {
     "data": {
      "text/html": [
       "<div id=\"iruby-chartkick-linechart-39232\" style=\"height: 300px; width: 100%; text-align: center; color: #999; line-height: 300px; font-size: 14px; font-family: 'Lucida Grande', 'Lucida Sans Unicode', Verdana, Arial, Helvetica, sans-serif;\">Loading...</div>\n",
       "<script>\n",
       "  (function() {\n",
       "    if (document.documentElement.hasAttribute(\"data-turbolinks-preview\")) return;\n",
       "    if (document.documentElement.hasAttribute(\"data-turbo-preview\")) return;\n",
       "\n",
       "    var createChart = function() { new Chartkick[\"LineChart\"](\"iruby-chartkick-linechart-39232\", [[50,150],[60,160],[70,170],[80,180],[90,190]], {\"min\":0}); };\n",
       "    if (\"Chartkick\" in window) {\n",
       "      createChart();\n",
       "    } else {\n",
       "      window.addEventListener(\"chartkick:load\", createChart, true);\n",
       "    }\n",
       "  })();\n",
       "</script>\n"
      ],
      "text/plain": [
       "\"<div id=\\\"iruby-chartkick-linechart-39232\\\" style=\\\"height: 300px; width: 100%; text-align: center; color: #999; line-height: 300px; font-size: 14px; font-family: 'Lucida Grande', 'Lucida Sans Unicode', Verdana, Arial, Helvetica, sans-serif;\\\">Loading...</div>\\n<script>\\n  (function() {\\n    if (document.documentElement.hasAttribute(\\\"data-turbolinks-preview\\\")) return;\\n    if (document.documentElement.hasAttribute(\\\"data-turbo-preview\\\")) return;\\n\\n    var createChart = function() { new Chartkick[\\\"LineChart\\\"](\\\"iruby-chartkick-linechart-39232\\\", [[50,150],[60,160],[70,170],[80,180],[90,190]], {\\\"min\\\":0}); };\\n    if (\\\"Chartkick\\\" in window) {\\n      createChart();\\n    } else {\\n      window.addEventListener(\\\"chartkick:load\\\", createChart, true);\\n    }\\n  })();\\n</script>\\n\""
      ]
     },
     "execution_count": 5,
     "metadata": {},
     "output_type": "execute_result"
    }
   ],
   "source": [
    "# Let's check the estimation\n",
    "# This is how the data looks like\n",
    "\n",
    "plot_data = {\n",
    "  50 => 150, \n",
    "  60 => 160, \n",
    "  70 => 170,\n",
    "  80 => 180,\n",
    "  90 => 190\n",
    "}\n",
    "\n",
    "line_chart(plot_data, min: 0)"
   ]
  },
  {
   "cell_type": "code",
   "execution_count": 5,
   "id": "dd4da928",
   "metadata": {},
   "outputs": [
    {
     "data": {
      "text/plain": [
       "0.38138781546052414"
      ]
     },
     "execution_count": 5,
     "metadata": {},
     "output_type": "execute_result"
    }
   ],
   "source": [
    "Rubythinking::Distributions::Normal.density(0.3)"
   ]
  },
  {
   "cell_type": "code",
   "execution_count": null,
   "id": "50ed0e7b",
   "metadata": {},
   "outputs": [],
   "source": []
  }
 ],
 "metadata": {
  "kernelspec": {
   "display_name": "Ruby 3 (iruby kernel)",
   "language": "ruby",
   "name": "ruby3"
  },
  "language_info": {
   "file_extension": ".rb",
   "mimetype": "application/x-ruby",
   "name": "ruby",
   "version": "3.3.5"
  }
 },
 "nbformat": 4,
 "nbformat_minor": 5
}
