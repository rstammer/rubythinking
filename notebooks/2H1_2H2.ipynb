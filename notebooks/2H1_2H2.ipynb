{
 "cells": [
  {
   "cell_type": "markdown",
   "metadata": {},
   "source": [
    "# 2H1: The panda twin problem\n",
    "\n",
    "_Suppose that there are two species of panda bear. Both are equally common in the wild and live in the same places. They look exactly alike and eat the same food, and there is yet no genetic assay capable of telling them apart. They differ however in their family sizes. Species A gives birth to twins 10% of the time, otherwise birthing a single infant. Species B birth twins 20% of the time, otherwise birthing singleton infants. Assume that these numbers are known with certainty, from many years of field research.\n",
    "Now suppose you are managing a captive panda breeding program. You have a new female panda of unknown species, and the has just given birth to twins. What is the probability that her next birth will also be twins?_"
   ]
  },
  {
   "cell_type": "markdown",
   "metadata": {},
   "source": [
    "### Terminology\n",
    "\n",
    "Event $T_0$ means that the _first_ birth that a specific panda bear gives are twins. Consequently, event $T_i$ means that the $i$-th birth that the specific panda bear gives are twins. \n",
    "<br>\n",
    "Event $A$ is short for the event that the specific panda bear is of species $A$. Conversely, $B$ means the event that the specific panda bear is of species $B$."
   ]
  },
  {
   "cell_type": "markdown",
   "metadata": {},
   "source": [
    "### Our assumptions\n",
    "\n",
    "(1) $P(A) = P(B) = 0.5$"
   ]
  },
  {
   "cell_type": "markdown",
   "metadata": {},
   "source": [
    "(2) $P(T_0 | A) = 0.1$\n"
   ]
  },
  {
   "cell_type": "markdown",
   "metadata": {},
   "source": [
    "(3) $P(T_0 | B) = 0.2$"
   ]
  },
  {
   "cell_type": "markdown",
   "metadata": {},
   "source": [
    "(4) $P(T_{i+1} | S) = P(T_i | S) \\quad \\forall S \\in \\{A,B\\}$"
   ]
  },
  {
   "cell_type": "markdown",
   "metadata": {},
   "source": [
    "(5) $P(A|B) = \\frac{P(B|A)P(A)}{P(B)}$"
   ]
  },
  {
   "cell_type": "markdown",
   "metadata": {},
   "source": [
    "(6) $P(C) = P(C|A)P(A) + P(C|B)P(B)$ if $A \\cap B = \\emptyset$ and $P(A \\cup B) = 1$"
   ]
  },
  {
   "cell_type": "markdown",
   "metadata": {},
   "source": [
    "### Some intermediate results we will use"
   ]
  },
  {
   "cell_type": "markdown",
   "metadata": {},
   "source": [
    "We will employ Bayes theorem (5) to compute this:\n",
    "\n",
    "$$P(A | T_0) = \\frac{P(T_0 | A) P(A)}{P(T_0)}$$\n",
    "$$P(B | T_0) = \\frac{P(T_0 | B) P(B)}{P(T_0)}$$\n",
    "\n",
    "From all terms in the equatuions for $P(A | T_0)$  and $P(B | T_0$ we know everything but $P(T_0)$, so let's solve this and compute $P(T_0)$ first. This indeed is quite easy where we use the rule of total probability (6) because $A$ and $B$ are partitioning the whole event space:\n",
    "\n",
    "$$P(T_0) = P(T_0 | A) P(A) + P(T_0 | B) P(B) = 0.1 \\cdot 0.5 + 0.2\\cdot 0.5 = 0.15$$\n",
    "\n",
    "Plugging this into the formula above we obtain \n",
    "$$P(A | T_0) = \\frac{0.1 \\cdot 0.5}{0.15} = \\frac{1}{3}$$\n",
    "$$P(B | T_0) = \\frac{0.2 \\cdot 0.5}{0.15} = \\frac{2}{3}$$\n",
    "\n"
   ]
  },
  {
   "cell_type": "markdown",
   "metadata": {},
   "source": [
    "### Final solution"
   ]
  },
  {
   "cell_type": "markdown",
   "metadata": {},
   "source": [
    "Having the above computations we will tackle the final part. We are interested in the probability of a twin birth given the fact that the first birth also was a twin. That is, we want to know $P(T_1 | T_0)$ in our terminology."
   ]
  },
  {
   "cell_type": "markdown",
   "metadata": {},
   "source": [
    "The term we are looking for naturally occurrs in the formula for conditional probability:\n",
    "<br>\n",
    "(7) $$P(T_1 \\cap T_0) = P(T_1 | T_0)P(T_0)$$. So to continue, let us deconstruct $P(T_1 \\cap T_0)$ and return to this point here!"
   ]
  },
  {
   "cell_type": "markdown",
   "metadata": {},
   "source": [
    "Again we will exploit the fact that (6) applies to $A$ and $B$. We can then compute: \n",
    "$$P(T_1 \\cap T_0) = P((T_1 \\cap T_0 \\cap A) \\cup (T_1 \\cap T_0 \\cap B))\n",
    "$$"
   ]
  },
  {
   "cell_type": "markdown",
   "metadata": {},
   "source": [
    "To the latter we apply again the defintion of conditional probabilities to get:\n",
    "$$P(T_1 \\cap T_0) = P(T_1 | A \\cap T_0)P(A \\cap T_0) + P(T_1 | B \\cap T_0)P(B \\cap T_0)$$ "
   ]
  },
  {
   "cell_type": "markdown",
   "metadata": {},
   "source": [
    "We do this again for $P(A \\cap T_0)$ and $P(B \\cap T_0$ and obtain:"
   ]
  },
  {
   "cell_type": "markdown",
   "metadata": {},
   "source": [
    "$$P(T_1 \\cap T_0) = P(T_1 | A \\cap T_0)P(A | T_0)P(T_0) + P(T_1 | B \\cap T_0)P(B | T_0)P(T_0)$$"
   ]
  },
  {
   "cell_type": "markdown",
   "metadata": {},
   "source": [
    "Now, we plug in the knowledge that $P(T_1 | A \\cap T_0) = P(T_1 | A) = P(T_0 | A)$:\n"
   ]
  },
  {
   "cell_type": "markdown",
   "metadata": {},
   "source": [
    "$$P(T_1 \\cap T_0) = P(T_0 | A)P(A | T_0)P(T_0) + P(T_0 | B)P(B | T_0)P(T_0)$$"
   ]
  },
  {
   "cell_type": "markdown",
   "metadata": {},
   "source": [
    "Having this, remember that we also had (7) stating $$P(T_1 \\cap T_0) = P(T_1 | T_0)P(T_0)$$"
   ]
  },
  {
   "cell_type": "markdown",
   "metadata": {},
   "source": [
    "Plugging this together and eliminating $P(T_0)$ because it occurrs on both sides we get:\n",
    "$$P(T_1 | T_0) = P(T_0 | A)P(A | T_0) + P(T_0 | B)P(B | T_0)$$"
   ]
  },
  {
   "cell_type": "markdown",
   "metadata": {},
   "source": [
    "And *drumroll* this is what we we need. We can plug in everything:"
   ]
  },
  {
   "cell_type": "markdown",
   "metadata": {},
   "source": [
    "$$P(T_1 | T_0) = 0.1 \\cdot \\frac{1}{3} + 0.2 \\cdot \\frac{2}{3} = 0.1\\overline{6}$$"
   ]
  },
  {
   "cell_type": "markdown",
   "metadata": {},
   "source": [
    "# 2H2"
   ]
  },
  {
   "cell_type": "markdown",
   "metadata": {},
   "source": [
    "On our way we already have answered what 2H2 was aksing for:\n",
    "$$P(A | T_0) = \\frac{0.1 \\cdot 0.5}{0.15} = \\frac{1}{3}$$"
   ]
  },
  {
   "cell_type": "markdown",
   "metadata": {},
   "source": [
    "So the probability that the panda is of species $A$ given the fact that we observed the first birth being twins is $\\frac{1}{3}$."
   ]
  },
  {
   "cell_type": "code",
   "execution_count": null,
   "metadata": {},
   "outputs": [],
   "source": []
  }
 ],
 "metadata": {
  "kernelspec": {
   "display_name": "Python 3",
   "language": "python",
   "name": "python3"
  },
  "language_info": {
   "codemirror_mode": {
    "name": "ipython",
    "version": 3
   },
   "file_extension": ".py",
   "mimetype": "text/x-python",
   "name": "python",
   "nbconvert_exporter": "python",
   "pygments_lexer": "ipython3",
   "version": "3.8.5"
  }
 },
 "nbformat": 4,
 "nbformat_minor": 4
}
