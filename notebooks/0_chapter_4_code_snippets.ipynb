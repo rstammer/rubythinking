{
 "cells": [
  {
   "cell_type": "code",
   "execution_count": 1,
   "id": "5cbc7743",
   "metadata": {},
   "outputs": [
    {
     "data": {
      "text/plain": [
       "true"
      ]
     },
     "execution_count": 1,
     "metadata": {},
     "output_type": "execute_result"
    }
   ],
   "source": [
    "require \"rubythinking\""
   ]
  },
  {
   "cell_type": "code",
   "execution_count": 4,
   "id": "ea2e5da1",
   "metadata": {},
   "outputs": [
    {
     "data": {
      "text/plain": [
       "[\"weight ~ normal(mu, sigma)\", \"mu ~ a + b * height\", \"a ~ normal(0, 50)\", \"b ~ normal(0, 10)\", \"sigma ~ exponential(1)\"]"
      ]
     },
     "execution_count": 4,
     "metadata": {},
     "output_type": "execute_result"
    }
   ],
   "source": [
    "data = {\n",
    "  height: [150, 160, 170, 180, 190],\n",
    "  weight: [50, 60, 70, 80, 90]\n",
    "}\n",
    "\n",
    "formulas = [\n",
    "  'weight ~ normal(mu, sigma)',\n",
    "  'mu ~ a + b * height',\n",
    "  'a ~ normal(0, 50)',\n",
    "  'b ~ normal(0, 10)',\n",
    "  'sigma ~ exponential(1)'\n",
    "]"
   ]
  },
  {
   "cell_type": "code",
   "execution_count": 5,
   "id": "b788c87e",
   "metadata": {},
   "outputs": [
    {
     "data": {
      "text/plain": [
       "#<Rubythinking::Quap:0x000000011eb13ef0 @formulas=[\"weight ~ normal(mu, sigma)\", \"mu ~ a + b * height\", \"a ~ normal(0, 50)\", \"b ~ normal(0, 10)\", \"sigma ~ exponential(1)\"], @data={:height=>[150, 160, 170, 180, 190], :weight=>[50, 60, 70, 80, 90]}, @start=nil, @estimated=false, @coef=nil, @vcov=nil>"
      ]
     },
     "execution_count": 5,
     "metadata": {},
     "output_type": "execute_result"
    }
   ],
   "source": [
    "quap = Rubythinking::Quap.new(formulas: formulas, data: data)"
   ]
  },
  {
   "cell_type": "code",
   "execution_count": 6,
   "id": "8d12748d",
   "metadata": {},
   "outputs": [
    {
     "data": {
      "text/plain": [
       "#<Rubythinking::Quap:0x000000011eb13ef0 @formulas=[\"weight ~ normal(mu, sigma)\", \"mu ~ a + b * height\", \"a ~ normal(0, 50)\", \"b ~ normal(0, 10)\", \"sigma ~ exponential(1)\"], @data={:height=>[150, 160, 170, 180, 190], :weight=>[50, 60, 70, 80, 90]}, @start=nil, @estimated=true, @coef={\"a\"=>-40.0, \"b\"=>0.6, \"sigma\"=>2.0}, @vcov=Matrix[[10.0, 0.1, 0.01], [0.1, 0.001, 0.0], [0.01, 0.0, 0.1]]>"
      ]
     },
     "execution_count": 6,
     "metadata": {},
     "output_type": "execute_result"
    }
   ],
   "source": [
    "quap.estimate"
   ]
  },
  {
   "cell_type": "code",
   "execution_count": 7,
   "id": "2af99bf0",
   "metadata": {},
   "outputs": [
    {
     "data": {
      "text/plain": [
       "\"Quadratic approximation\\n\\nParameter estimates:\\n  a: -40.0 (SE: 3.162)\\n  b: 0.6 (SE: 0.032)\\n  sigma: 2.0 (SE: 0.316)\""
      ]
     },
     "execution_count": 7,
     "metadata": {},
     "output_type": "execute_result"
    }
   ],
   "source": [
    "quap.summary"
   ]
  },
  {
   "cell_type": "code",
   "execution_count": null,
   "id": "fc0189b1",
   "metadata": {},
   "outputs": [],
   "source": []
  }
 ],
 "metadata": {
  "kernelspec": {
   "display_name": "Ruby 3 (iruby kernel)",
   "language": "ruby",
   "name": "ruby3"
  },
  "language_info": {
   "file_extension": ".rb",
   "mimetype": "application/x-ruby",
   "name": "ruby",
   "version": "3.3.5"
  }
 },
 "nbformat": 4,
 "nbformat_minor": 5
}
