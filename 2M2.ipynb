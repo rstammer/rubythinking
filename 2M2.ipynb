{
 "cells": [
  {
   "cell_type": "markdown",
   "metadata": {},
   "source": [
    "# Statistical Rethinking: Excercise 2M2"
   ]
  },
  {
   "cell_type": "markdown",
   "metadata": {},
   "source": [
    "Like in the previous notebook for 2M1, we have the following globe tossing results:\n",
    "\n",
    "(1) W, W, W <br>\n",
    "(2) W, W, W, L <br>\n",
    "(3) L, W, W, L, W, W, W <br>\n",
    "\n",
    "<br>\n",
    "We want to estimate the probability of Water $p$ as parameter of the model. The parameter is at least 0 and at most 1.\n",
    "<br>\n",
    "<br>\n",
    "The key point for this exercise is that we employ a different prior:\n",
    "$$    \\text{prior}(p) =\n",
    "    \\begin{cases}\n",
    "      0, & \\text{if}\\ p < 0.5 \\\\\n",
    "      1, & \\text{otherwise}\n",
    "    \\end{cases}$$"
   ]
  },
  {
   "cell_type": "code",
   "execution_count": 17,
   "metadata": {},
   "outputs": [
    {
     "data": {
      "text/plain": [
       "[0.0, 0.02, 0.04, 0.06, 0.08, 0.1, 0.12, 0.14, 0.16, 0.18, 0.2, 0.22, 0.24, 0.26, 0.28, 0.3, 0.32, 0.34, 0.36, 0.38, 0.4, 0.42, 0.44, 0.46, 0.48, 0.5, 0.52, 0.54, 0.56, 0.58, 0.6, 0.62, 0.64, 0.66, 0.68, 0.7000000000000001, 0.72, 0.74, 0.76, 0.78, 0.8, 0.8200000000000001, 0.84, 0.86, 0.88, 0.9, 0.92, 0.9400000000000001, 0.96, 0.98, 1.0]"
      ]
     },
     "execution_count": 17,
     "metadata": {},
     "output_type": "execute_result"
    }
   ],
   "source": [
    "require 'iruby/chartkick'\n",
    "include IRuby::Chartkick\n",
    "grid_size = 50\n",
    "step_size = 1.0 / grid_size.to_f\n",
    "grid = 0.step(by: step_size, to: 1).to_a"
   ]
  },
  {
   "cell_type": "code",
   "execution_count": 18,
   "metadata": {},
   "outputs": [
    {
     "data": {
      "text/html": [
       "<div id=\"iruby-chartkick-areachart-53045\" style=\"height: 300px; width: 100%; text-align: center; color: #999; line-height: 300px; font-size: 14px; font-family: 'Lucida Grande', 'Lucida Sans Unicode', Verdana, Arial, Helvetica, sans-serif;\">Loading...</div><script type=\"text/javascript\">\n",
       "  new Chartkick[\"AreaChart\"](\"iruby-chartkick-areachart-53045\", [[0.0,0],[0.02,0],[0.04,0],[0.06,0],[0.08,0],[0.1,0],[0.12,0],[0.14,0],[0.16,0],[0.18,0],[0.2,0],[0.22,0],[0.24,0],[0.26,0],[0.28,0],[0.3,0],[0.32,0],[0.34,0],[0.36,0],[0.38,0],[0.4,0],[0.42,0],[0.44,0],[0.46,0],[0.48,0],[0.5,1],[0.52,1],[0.54,1],[0.56,1],[0.58,1],[0.6,1],[0.62,1],[0.64,1],[0.66,1],[0.68,1],[0.7000000000000001,1],[0.72,1],[0.74,1],[0.76,1],[0.78,1],[0.8,1],[0.8200000000000001,1],[0.84,1],[0.86,1],[0.88,1],[0.9,1],[0.92,1],[0.9400000000000001,1],[0.96,1],[0.98,1],[1.0,1]], {});\n",
       "</script>\n"
      ],
      "text/plain": [
       "\"<div id=\\\"iruby-chartkick-areachart-53045\\\" style=\\\"height: 300px; width: 100%; text-align: center; color: #999; line-height: 300px; font-size: 14px; font-family: 'Lucida Grande', 'Lucida Sans Unicode', Verdana, Arial, Helvetica, sans-serif;\\\">Loading...</div><script type=\\\"text/javascript\\\">\\n  new Chartkick[\\\"AreaChart\\\"](\\\"iruby-chartkick-areachart-53045\\\", [[0.0,0],[0.02,0],[0.04,0],[0.06,0],[0.08,0],[0.1,0],[0.12,0],[0.14,0],[0.16,0],[0.18,0],[0.2,0],[0.22,0],[0.24,0],[0.26,0],[0.28,0],[0.3,0],[0.32,0],[0.34,0],[0.36,0],[0.38,0],[0.4,0],[0.42,0],[0.44,0],[0.46,0],[0.48,0],[0.5,1],[0.52,1],[0.54,1],[0.56,1],[0.58,1],[0.6,1],[0.62,1],[0.64,1],[0.66,1],[0.68,1],[0.7000000000000001,1],[0.72,1],[0.74,1],[0.76,1],[0.78,1],[0.8,1],[0.8200000000000001,1],[0.84,1],[0.86,1],[0.88,1],[0.9,1],[0.92,1],[0.9400000000000001,1],[0.96,1],[0.98,1],[1.0,1]], {});\\n</script>\\n\""
      ]
     },
     "execution_count": 18,
     "metadata": {},
     "output_type": "execute_result"
    }
   ],
   "source": [
    "prior = grid.each_with_object({}) do |x, prior| \n",
    "  prior[x] =\n",
    "    if x < 0.5\n",
    "      0\n",
    "    else\n",
    "      1\n",
    "    end\n",
    "end\n",
    "\n",
    "area_chart(prior)"
   ]
  },
  {
   "cell_type": "code",
   "execution_count": 19,
   "metadata": {},
   "outputs": [
    {
     "data": {
      "text/plain": [
       "#<Proc:0x00007f98e9bed1b8@(pry):193 (lambda)>"
      ]
     },
     "execution_count": 19,
     "metadata": {},
     "output_type": "execute_result"
    }
   ],
   "source": [
    "factorial = ->(n) do\n",
    "  return 1 if n < 1\n",
    "  n.to_i.downto(1).inject(:*)\n",
    "end\n",
    "\n",
    "\n",
    "likelihood = ->(w, l, p) do\n",
    "  (factorial[w+l].to_f / (factorial[w] * factorial[l])).to_f * (p**w) * ((1-p)**l)\n",
    "end"
   ]
  },
  {
   "cell_type": "markdown",
   "metadata": {},
   "source": [
    "Now, let's compute the grid aprroximation of the posterior for each of the cases. The difference is only the data input we give in terms of \"count of Water\" versus \"count of Land\" of our tossing result given in the exercise."
   ]
  },
  {
   "cell_type": "code",
   "execution_count": 20,
   "metadata": {},
   "outputs": [
    {
     "data": {
      "text/html": [
       "<div id=\"iruby-chartkick-areachart-47755\" style=\"height: 300px; width: 100%; text-align: center; color: #999; line-height: 300px; font-size: 14px; font-family: 'Lucida Grande', 'Lucida Sans Unicode', Verdana, Arial, Helvetica, sans-serif;\">Loading...</div><script type=\"text/javascript\">\n",
       "  new Chartkick[\"AreaChart\"](\"iruby-chartkick-areachart-47755\", [[0.0,0.0],[0.02,0.0],[0.04,0.0],[0.06,0.0],[0.08,0.0],[0.1,0.0],[0.12,0.0],[0.14,0.0],[0.16,0.0],[0.18,0.0],[0.2,0.0],[0.22,0.0],[0.24,0.0],[0.26,0.0],[0.28,0.0],[0.3,0.0],[0.32,0.0],[0.34,0.0],[0.36,0.0],[0.38,0.0],[0.4,0.0],[0.42,0.0],[0.44,0.0],[0.46,0.0],[0.48,0.0],[0.5,0.010175010175010175],[0.52,0.011445502645502646],[0.54,0.01281758241758242],[0.56,0.0142951566951567],[0.58,0.015882132682132677],[0.6,0.01758241758241758],[0.62,0.0193999185999186],[0.64,0.021338542938542943],[0.66,0.023402197802197804],[0.68,0.025594790394790397],[0.7000000000000001,0.027920227920227927],[0.72,0.030382417582417578],[0.74,0.032985266585266584],[0.76,0.03573268213268214],[0.78,0.03862857142857143],[0.8,0.041676841676841686],[0.8200000000000001,0.04488140008140009],[0.84,0.048246153846153834],[0.86,0.05177501017501017],[0.88,0.05547187627187627],[0.9,0.059340659340659345],[0.92,0.0633852665852666],[0.9400000000000001,0.06760960520960521],[0.96,0.07201758241758241],[0.98,0.07661310541310541],[1.0,0.0814000814000814]], {});\n",
       "</script>\n"
      ],
      "text/plain": [
       "\"<div id=\\\"iruby-chartkick-areachart-47755\\\" style=\\\"height: 300px; width: 100%; text-align: center; color: #999; line-height: 300px; font-size: 14px; font-family: 'Lucida Grande', 'Lucida Sans Unicode', Verdana, Arial, Helvetica, sans-serif;\\\">Loading...</div><script type=\\\"text/javascript\\\">\\n  new Chartkick[\\\"AreaChart\\\"](\\\"iruby-chartkick-areachart-47755\\\", [[0.0,0.0],[0.02,0.0],[0.04,0.0],[0.06,0.0],[0.08,0.0],[0.1,0.0],[0.12,0.0],[0.14,0.0],[0.16,0.0],[0.18,0.0],[0.2,0.0],[0.22,0.0],[0.24,0.0],[0.26,0.0],[0.28,0.0],[0.3,0.0],[0.32,0.0],[0.34,0.0],[0.36,0.0],[0.38,0.0],[0.4,0.0],[0.42,0.0],[0.44,0.0],[0.46,0.0],[0.48,0.0],[0.5,0.010175010175010175],[0.52,0.011445502645502646],[0.54,0.01281758241758242],[0.56,0.0142951566951567],[0.58,0.015882132682132677],[0.6,0.01758241758241758],[0.62,0.0193999185999186],[0.64,0.021338542938542943],[0.66,0.023402197802197804],[0.68,0.025594790394790397],[0.7000000000000001,0.027920227920227927],[0.72,0.030382417582417578],[0.74,0.032985266585266584],[0.76,0.03573268213268214],[0.78,0.03862857142857143],[0.8,0.041676841676841686],[0.8200000000000001,0.04488140008140009],[0.84,0.048246153846153834],[0.86,0.05177501017501017],[0.88,0.05547187627187627],[0.9,0.059340659340659345],[0.92,0.0633852665852666],[0.9400000000000001,0.06760960520960521],[0.96,0.07201758241758241],[0.98,0.07661310541310541],[1.0,0.0814000814000814]], {});\\n</script>\\n\""
      ]
     },
     "execution_count": 20,
     "metadata": {},
     "output_type": "execute_result"
    }
   ],
   "source": [
    "# For case (1)\n",
    "w = 3\n",
    "l = 0\n",
    "\n",
    "\n",
    "u_posterior = grid.each_with_object({}) do |x, u_posterior| \n",
    "  u_posterior[x] = prior[x] * likelihood[w, l, x] \n",
    "end\n",
    "\n",
    "posterior = u_posterior.each_with_object({}) do |(x,y), posterior| \n",
    "  posterior[x] = y.to_f / u_posterior.values.sum.to_f\n",
    "end\n",
    "\n",
    "area_chart(posterior)"
   ]
  },
  {
   "cell_type": "code",
   "execution_count": 21,
   "metadata": {},
   "outputs": [
    {
     "data": {
      "text/html": [
       "<div id=\"iruby-chartkick-areachart-68133\" style=\"height: 300px; width: 100%; text-align: center; color: #999; line-height: 300px; font-size: 14px; font-family: 'Lucida Grande', 'Lucida Sans Unicode', Verdana, Arial, Helvetica, sans-serif;\">Loading...</div><script type=\"text/javascript\">\n",
       "  new Chartkick[\"AreaChart\"](\"iruby-chartkick-areachart-68133\", [[0.0,0.0],[0.02,0.0],[0.04,0.0],[0.06,0.0],[0.08,0.0],[0.1,0.0],[0.12,0.0],[0.14,0.0],[0.16,0.0],[0.18,0.0],[0.2,0.0],[0.22,0.0],[0.24,0.0],[0.26,0.0],[0.28,0.0],[0.3,0.0],[0.32,0.0],[0.34,0.0],[0.36,0.0],[0.38,0.0],[0.4,0.0],[0.42,0.0],[0.44,0.0],[0.46,0.0],[0.48,0.0],[0.5,0.03033366841116807],[0.52,0.032756401520313755],[0.54,0.0351547512134438],[0.56,0.03750262568233768],[0.58,0.03977206941818761],[0.6,0.04193326321159874],[0.62,0.04395452415258893],[0.64,0.04580230563058892],[0.66,0.047441197334442235],[0.68,0.048833925252405236],[0.7000000000000001,0.04994135167214711],[0.72,0.050722475180749835],[0.74,0.05113443066470822],[0.76,0.05113248930992991],[0.78,0.05067005860173534],[0.8,0.04969868232485777],[0.8200000000000001,0.04816804056344327],[0.84,0.046025949701050776],[0.86,0.043218362420651975],[0.88,0.03968936770463141],[0.9,0.035381190834786434],[0.92,0.03023419339232721],[0.9400000000000001,0.024186873257876735],[0.96,0.01717586461147086],[0.98,0.00913593793255812],[1.0,0.0]], {});\n",
       "</script>\n"
      ],
      "text/plain": [
       "\"<div id=\\\"iruby-chartkick-areachart-68133\\\" style=\\\"height: 300px; width: 100%; text-align: center; color: #999; line-height: 300px; font-size: 14px; font-family: 'Lucida Grande', 'Lucida Sans Unicode', Verdana, Arial, Helvetica, sans-serif;\\\">Loading...</div><script type=\\\"text/javascript\\\">\\n  new Chartkick[\\\"AreaChart\\\"](\\\"iruby-chartkick-areachart-68133\\\", [[0.0,0.0],[0.02,0.0],[0.04,0.0],[0.06,0.0],[0.08,0.0],[0.1,0.0],[0.12,0.0],[0.14,0.0],[0.16,0.0],[0.18,0.0],[0.2,0.0],[0.22,0.0],[0.24,0.0],[0.26,0.0],[0.28,0.0],[0.3,0.0],[0.32,0.0],[0.34,0.0],[0.36,0.0],[0.38,0.0],[0.4,0.0],[0.42,0.0],[0.44,0.0],[0.46,0.0],[0.48,0.0],[0.5,0.03033366841116807],[0.52,0.032756401520313755],[0.54,0.0351547512134438],[0.56,0.03750262568233768],[0.58,0.03977206941818761],[0.6,0.04193326321159874],[0.62,0.04395452415258893],[0.64,0.04580230563058892],[0.66,0.047441197334442235],[0.68,0.048833925252405236],[0.7000000000000001,0.04994135167214711],[0.72,0.050722475180749835],[0.74,0.05113443066470822],[0.76,0.05113248930992991],[0.78,0.05067005860173534],[0.8,0.04969868232485777],[0.8200000000000001,0.04816804056344327],[0.84,0.046025949701050776],[0.86,0.043218362420651975],[0.88,0.03968936770463141],[0.9,0.035381190834786434],[0.92,0.03023419339232721],[0.9400000000000001,0.024186873257876735],[0.96,0.01717586461147086],[0.98,0.00913593793255812],[1.0,0.0]], {});\\n</script>\\n\""
      ]
     },
     "execution_count": 21,
     "metadata": {},
     "output_type": "execute_result"
    }
   ],
   "source": [
    "# For case (2)\n",
    "w = 3\n",
    "l = 1\n",
    "\n",
    "\n",
    "u_posterior = grid.each_with_object({}) do |x, u_posterior| \n",
    "  u_posterior[x] = prior[x] * likelihood[w, l, x] \n",
    "end\n",
    "\n",
    "posterior = u_posterior.each_with_object({}) do |(x,y), posterior| \n",
    "  posterior[x] = y.to_f / u_posterior.values.sum.to_f\n",
    "end\n",
    "\n",
    "area_chart(posterior)"
   ]
  },
  {
   "cell_type": "code",
   "execution_count": 22,
   "metadata": {},
   "outputs": [
    {
     "data": {
      "text/html": [
       "<div id=\"iruby-chartkick-areachart-70746\" style=\"height: 300px; width: 100%; text-align: center; color: #999; line-height: 300px; font-size: 14px; font-family: 'Lucida Grande', 'Lucida Sans Unicode', Verdana, Arial, Helvetica, sans-serif;\">Loading...</div><script type=\"text/javascript\">\n",
       "  new Chartkick[\"AreaChart\"](\"iruby-chartkick-areachart-70746\", [[0.0,0.0],[0.02,0.0],[0.04,0.0],[0.06,0.0],[0.08,0.0],[0.1,0.0],[0.12,0.0],[0.14,0.0],[0.16,0.0],[0.18,0.0],[0.2,0.0],[0.22,0.0],[0.24,0.0],[0.26,0.0],[0.28,0.0],[0.3,0.0],[0.32,0.0],[0.34,0.0],[0.36,0.0],[0.38,0.0],[0.4,0.0],[0.42,0.0],[0.44,0.0],[0.46,0.0],[0.48,0.0],[0.5,0.0302304402399983],[0.52,0.03389640455469191],[0.54,0.037595763061228776],[0.56,0.041257217006775745],[0.58,0.0448015448911555],[0.6,0.04814272579711524],[0.62,0.051189405068867475],[0.64,0.05384672730179831],[0.66,0.05601856160623747],[0.68,0.05761014410818552],[0.7000000000000001,0.05853116264989264],[0.72,0.058699308653184123],[0.74,0.058044321108427326],[0.76,0.05651254765203497],[0.78,0.05407204769539964],[0.8,0.050718262568154315],[0.8200000000000001,0.04648027763865389],[0.84,0.04142770137457234],[0.86,0.03567818630651054],[0.88,0.02940561685750976],[0.9,0.022848989001365234],[0.92,0.016322006712635093],[0.9400000000000001,0.010223420171239311],[0.96,0.005048130684543599],[0.98,0.0013990872898229294],[1.0,0.0]], {});\n",
       "</script>\n"
      ],
      "text/plain": [
       "\"<div id=\\\"iruby-chartkick-areachart-70746\\\" style=\\\"height: 300px; width: 100%; text-align: center; color: #999; line-height: 300px; font-size: 14px; font-family: 'Lucida Grande', 'Lucida Sans Unicode', Verdana, Arial, Helvetica, sans-serif;\\\">Loading...</div><script type=\\\"text/javascript\\\">\\n  new Chartkick[\\\"AreaChart\\\"](\\\"iruby-chartkick-areachart-70746\\\", [[0.0,0.0],[0.02,0.0],[0.04,0.0],[0.06,0.0],[0.08,0.0],[0.1,0.0],[0.12,0.0],[0.14,0.0],[0.16,0.0],[0.18,0.0],[0.2,0.0],[0.22,0.0],[0.24,0.0],[0.26,0.0],[0.28,0.0],[0.3,0.0],[0.32,0.0],[0.34,0.0],[0.36,0.0],[0.38,0.0],[0.4,0.0],[0.42,0.0],[0.44,0.0],[0.46,0.0],[0.48,0.0],[0.5,0.0302304402399983],[0.52,0.03389640455469191],[0.54,0.037595763061228776],[0.56,0.041257217006775745],[0.58,0.0448015448911555],[0.6,0.04814272579711524],[0.62,0.051189405068867475],[0.64,0.05384672730179831],[0.66,0.05601856160623747],[0.68,0.05761014410818552],[0.7000000000000001,0.05853116264989264],[0.72,0.058699308653184123],[0.74,0.058044321108427326],[0.76,0.05651254765203497],[0.78,0.05407204769539964],[0.8,0.050718262568154315],[0.8200000000000001,0.04648027763865389],[0.84,0.04142770137457234],[0.86,0.03567818630651054],[0.88,0.02940561685750976],[0.9,0.022848989001365234],[0.92,0.016322006712635093],[0.9400000000000001,0.010223420171239311],[0.96,0.005048130684543599],[0.98,0.0013990872898229294],[1.0,0.0]], {});\\n</script>\\n\""
      ]
     },
     "execution_count": 22,
     "metadata": {},
     "output_type": "execute_result"
    }
   ],
   "source": [
    "# For case (3)\n",
    "w = 5\n",
    "l = 2\n",
    "\n",
    "\n",
    "u_posterior = grid.each_with_object({}) do |x, u_posterior| \n",
    "  u_posterior[x] = prior[x] * likelihood[w, l, x] \n",
    "end\n",
    "\n",
    "posterior = u_posterior.each_with_object({}) do |(x,y), posterior| \n",
    "  posterior[x] = y.to_f / u_posterior.values.sum.to_f\n",
    "end\n",
    "\n",
    "area_chart(posterior)"
   ]
  },
  {
   "cell_type": "code",
   "execution_count": null,
   "metadata": {},
   "outputs": [],
   "source": []
  },
  {
   "cell_type": "code",
   "execution_count": null,
   "metadata": {},
   "outputs": [],
   "source": []
  }
 ],
 "metadata": {
  "kernelspec": {
   "display_name": "Ruby 2.6.5",
   "language": "ruby",
   "name": "ruby"
  },
  "language_info": {
   "file_extension": ".rb",
   "mimetype": "application/x-ruby",
   "name": "ruby",
   "version": "2.6.5"
  }
 },
 "nbformat": 4,
 "nbformat_minor": 4
}
