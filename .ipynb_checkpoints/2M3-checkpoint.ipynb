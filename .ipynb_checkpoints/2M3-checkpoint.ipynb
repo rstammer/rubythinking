{
 "cells": [
  {
   "cell_type": "markdown",
   "metadata": {},
   "source": [
    "# Statistical Rethinking: Excercise 2M3"
   ]
  },
  {
   "cell_type": "markdown",
   "metadata": {},
   "source": [
    "A globe is being tossed and the result is \"Land\". With same probability, this globe was either a \n",
    "globe of our Earth or the globe of Mars. We know that the earth is covered 70% by water and the Mars is covered 100% by land.\n",
    "\n",
    "Here are our facts:\n",
    "\n",
    "\n",
    "$$\\text{Pr}[Earth] = \\text{Pr}[Mars] = 0.5$$"
   ]
  },
  {
   "cell_type": "markdown",
   "metadata": {},
   "source": [
    "\n",
    "$$\\text{Pr}[Land | Earth] = 0.3$$"
   ]
  },
  {
   "cell_type": "markdown",
   "metadata": {},
   "source": [
    "$$\\text{Pr}[Land | Mars] = 1.0$$"
   ]
  },
  {
   "cell_type": "markdown",
   "metadata": {},
   "source": [
    "We want to show that\n",
    "$$\\text{Pr}[Earth|Land] = 0.23$$"
   ]
  },
  {
   "cell_type": "markdown",
   "metadata": {},
   "source": [
    "### Solution\n",
    "\n",
    "Let's abbreviate Earth by $E$ and Mars by $M$ as well as water by $W$ and Land by $L$. \n",
    "Straight-forward application of Bayes theorem gives us:\n",
    "\n",
    "$$ \\text{Pr}[E|L] = \\frac{\\text{Pr}[L|E] \\cdot \\text{Pr}[E]}{\\text{Pr}[L]} $$\n"
   ]
  },
  {
   "cell_type": "markdown",
   "metadata": {},
   "source": [
    "We already have all concrete numbers for the numerator, as given in our \"fact list\" above. So we need to concentrate on computing the denominator $\\text{Pr}[L]$. \n",
    "<br><br>\n",
    "For that we exploit the fact that we know our planet is either Earth or Mars as two distinct events and no other possibility. With that we have"
   ]
  },
  {
   "cell_type": "markdown",
   "metadata": {},
   "source": [
    "$$\\text{Pr}[L] = \\text{E}[\\text{Pr}[L|planet]]\n",
    "= \\sum\\limits_{p \\in \\{E, M\\}}\\text{Pr}[L|p] \\text{Pr}[p] = (0.5 \\cdot 0.3) + (0.5 \\cdot 1.0) = 0.65$$"
   ]
  },
  {
   "cell_type": "markdown",
   "metadata": {},
   "source": [
    "With the latter info that $\\text{Pr}[L]$ is 0.65, we have all the pieces together:\n",
    "\n",
    "$$ \\text{Pr}[E|L] = \\frac{\\text{Pr}[L|E] \\cdot \\text{Pr}[E]}{\\text{Pr}[L]} =  \\frac{0.3 \\cdot 0.5}{0.65}$$\n"
   ]
  },
  {
   "cell_type": "code",
   "execution_count": 11,
   "metadata": {},
   "outputs": [
    {
     "data": {
      "text/plain": [
       "0.23076923076923075"
      ]
     },
     "execution_count": 11,
     "metadata": {},
     "output_type": "execute_result"
    }
   ],
   "source": [
    "0.3*0.5 / 0.65\n"
   ]
  },
  {
   "cell_type": "markdown",
   "metadata": {},
   "source": [
    " "
   ]
  },
  {
   "cell_type": "code",
   "execution_count": null,
   "metadata": {},
   "outputs": [],
   "source": []
  }
 ],
 "metadata": {
  "kernelspec": {
   "display_name": "Ruby 2.6.5",
   "language": "ruby",
   "name": "ruby"
  },
  "language_info": {
   "file_extension": ".rb",
   "mimetype": "application/x-ruby",
   "name": "ruby",
   "version": "2.6.5"
  }
 },
 "nbformat": 4,
 "nbformat_minor": 4
}
